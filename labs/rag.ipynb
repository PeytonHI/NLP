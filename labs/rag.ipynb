{
 "cells": [
  {
   "cell_type": "markdown",
   "metadata": {},
   "source": [
    "# Retrieval-Augmented Generation"
   ]
  },
  {
   "cell_type": "code",
   "execution_count": 5,
   "metadata": {},
   "outputs": [],
   "source": [
    "import json\n",
    "from qdrant_client import QdrantClient, models\n",
    "from sentence_transformers import SentenceTransformer\n",
    "from tqdm.notebook import tqdm"
   ]
  },
  {
   "cell_type": "code",
   "execution_count": 6,
   "metadata": {},
   "outputs": [],
   "source": [
    "with open(\"/data2/arxiv/arxiv-astro_ph.json\") as fin:\n",
    "    docs = []\n",
    "    for line in fin:\n",
    "        docs.append(json.loads(line))"
   ]
  },
  {
   "cell_type": "code",
   "execution_count": 3,
   "metadata": {},
   "outputs": [
    {
     "name": "stderr",
     "output_type": "stream",
     "text": [
      "/home/wwu/.conda/envs/nlp/lib/python3.12/site-packages/transformers/tokenization_utils_base.py:1601: FutureWarning: `clean_up_tokenization_spaces` was not set. It will be set to `True` by default. This behavior will be depracted in transformers v4.45, and will be then set to `False` by default. For more details check this issue: https://github.com/huggingface/transformers/issues/31884\n",
      "  warnings.warn(\n"
     ]
    }
   ],
   "source": [
    "# need a model to generate sentence embeddings for your documents\n",
    "model = SentenceTransformer(\"all-MiniLM-L6-v2\")"
   ]
  },
  {
   "cell_type": "code",
   "execution_count": 13,
   "metadata": {},
   "outputs": [
    {
     "data": {
      "text/plain": [
       "True"
      ]
     },
     "execution_count": 13,
     "metadata": {},
     "output_type": "execute_result"
    }
   ],
   "source": [
    "# create a vector database\n",
    "\n",
    "# client = QdrantClient(\":memory:\")\n",
    "client = QdrantClient(path=\"db\")\n",
    "client.create_collection(\n",
    "    collection_name=\"abstracts\",\n",
    "    vectors_config=models.VectorParams(\n",
    "        size=model.get_sentence_embedding_dimension(),\n",
    "        distance=models.Distance.COSINE\n",
    "    )\n",
    ")"
   ]
  },
  {
   "cell_type": "code",
   "execution_count": 14,
   "metadata": {},
   "outputs": [
    {
     "data": {
      "application/vnd.jupyter.widget-view+json": {
       "model_id": "3410b25144b34aff8747203c5c7cb666",
       "version_major": 2,
       "version_minor": 0
      },
      "text/plain": [
       "  0%|          | 0/349073 [00:00<?, ?it/s]"
      ]
     },
     "metadata": {},
     "output_type": "display_data"
    }
   ],
   "source": [
    "# add documents (slow)\n",
    "\n",
    "client.upload_points(\n",
    "    collection_name=\"abstracts\",\n",
    "    points=[\n",
    "        models.PointStruct(\n",
    "            id=idx,\n",
    "            vector=model.encode(doc[\"abstract\"]).tolist(),\n",
    "            payload=doc\n",
    "        )\n",
    "        for idx, doc in tqdm(enumerate(docs), total=len(docs))\n",
    "    ]\n",
    ")\n"
   ]
  },
  {
   "cell_type": "code",
   "execution_count": 16,
   "metadata": {},
   "outputs": [],
   "source": [
    "def query(text):\n",
    "    hits = client.query_points(\n",
    "        collection_name=\"abstracts\",\n",
    "        query=model.encode(text).tolist(),\n",
    "        limit=10,\n",
    "    ).points\n",
    "\n",
    "    for hit in hits:\n",
    "        print(hit.payload, \"score:\", hit.score)"
   ]
  },
  {
   "cell_type": "code",
   "execution_count": 17,
   "metadata": {},
   "outputs": [
    {
     "name": "stdout",
     "output_type": "stream",
     "text": [
      "{'id': 'astro-ph/9412071', 'submitter': 'Alain Lecavelier', 'authors': 'A. Lecavelier des Etangs, M. Deleuil, A. Vidal-Madjar et al', 'title': 'BETA PICTORIS : Evidence of light variations', 'comments': '7 pages, l-aa LaTeX file + 4 appended figures in uuencoded .ps; To\\n  appear in Astronomy & Astrophysics. Postscript version of paper and figures\\n  also available at ftp://corton.iap.fr/pub/from_users/lecaveli/', 'journal-ref': 'Astron.Astrophys.299:557,1995', 'doi': None, 'report-no': None, 'categories': 'astro-ph', 'license': None, 'abstract': '  We have analyzed Beta Pictoris photometric measurements obtained from La\\nSilla by the Geneva Observatory from 1975 to 1992. These data show evidence of\\nvariations in the brightness of the star, with no color dependency. Here, we\\ndemonstrate that the light variations are present on long as well as on short\\ntime scales. On a long time scale, we show that the apparent magnitude of Beta\\nPic decreased by 0.011 +/- 0.004 mag from 1979 to 1982. Moreover, when we\\nconsider all the measurements, the chance that there is no variation at all can\\nbe estimated to be less than 10E-4. On short time scales there is a peculiar\\nfeature observed during about 30 days; the variations may be as high as 0.04\\nmagnitude. A maximum entropy reconstruction of the photometric data is\\ntentatively proposed and some physical interpretations are presented.\\n', 'versions': [{'version': 'v1', 'created': 'Tue, 20 Dec 1994 10:52:45 GMT'}], 'update_date': '2011-05-23', 'authors_parsed': [['Etangs', 'A. Lecavelier des', ''], ['Deleuil', 'M.', ''], ['al', 'A. Vidal-Madjar et', '']]} score: 0.463743347621433\n",
      "{'id': '1602.04683', 'submitter': 'Alain Lecavelier des Etangs', 'authors': 'A. Lecavelier des Etangs and A. Vidal-Madjar', 'title': 'The orbit of Beta Pic b as a transiting planet', 'comments': 'Accepted for publication in A&A', 'journal-ref': 'A&A 588, A60 (2016)', 'doi': '10.1051/0004-6361/201527631', 'report-no': None, 'categories': 'astro-ph.EP', 'license': 'http://arxiv.org/licenses/nonexclusive-distrib/1.0/', 'abstract': '  In 1981, Beta Pictoris showed strong and rapid photometric variations\\npossibly due to a transiting giant planet. Later, a planetary mass companion to\\nthe star, Beta Pic b, was identified using imagery. Observations at different\\nepochs (2003 and 2009-2015) detected the planet at a projected distance of 6 to\\n9 AU from the star and showed that the planet is on an edge-on orbit. The\\nobserved motion is consistent with an inferior conjunction in 1981, and Beta\\nPic b can be the transiting planet proposed to explain the photometric event\\nobserved at that time. Assuming that the 1981 event is related to the transit\\nor the inferior conjunction of Beta Pic b on an edge-on orbit, we search for\\nthe planetary orbit in agreement with all the measurements of the planet\\nposition published so far. We find two different orbits that are compatible\\nwith all these constraints: (i) an orbit with a period of 17.97$\\\\pm$0.08 years\\nalong with an eccentricity of around 0.12 and (ii) an orbit with a period of\\n36.38$\\\\pm$0.13 years and a larger eccentricity of about 0.32. In the near\\nfuture, new imaging observations should allow us to discriminate between these\\ntwo different orbits. We also estimate the possible dates for the next\\ntransits, which could take place as early as 2017 or 2018, even for a\\nlong-period orbit.\\n', 'versions': [{'version': 'v1', 'created': 'Mon, 15 Feb 2016 14:07:50 GMT'}], 'update_date': '2016-03-23', 'authors_parsed': [['Etangs', 'A. Lecavelier des', ''], ['Vidal-Madjar', 'A.', '']]} score: 0.4345539271632508\n",
      "{'id': '0811.3583', 'submitter': 'David Ehrenreich', 'authors': 'A.-M. Lagrange, D. Gratadour, G. Chauvin, T. Fusco, D. Ehrenreich, D.\\n  Mouillet, G. Rousset, D. Rouan, F. Allard, E. Gendron, J. Charton, L.\\n  Mugnier, P. Rabou, J. Montri, F. Lacombe', 'title': 'A probable giant planet imaged in the Beta Pictoris disk', 'comments': '5 pages, 3 figures, 1 table. A&A Letters, in press', 'journal-ref': None, 'doi': '10.1051/0004-6361:200811325', 'report-no': None, 'categories': 'astro-ph', 'license': 'http://arxiv.org/licenses/nonexclusive-distrib/1.0/', 'abstract': \"  Since the discovery of its dusty disk in 1984, Beta Pictoris has become the\\nprototype of young early-type planetary systems, and there are now various\\nindications that a massive Jovian planet is orbiting the star at ~ 10 AU.\\nHowever, no planets have been detected around this star so far. Our goal was to\\ninvestigate the close environment of Beta Pic, searching for planetary\\ncompanion(s). Deep adaptive-optics L'-band images of Beta Pic were recorded\\nusing the NaCo instrument at the Very Large Telescope. A faint point-like\\nsignal is detected at a projected distance of ~ 8 AU from the star, within the\\nNorth-East side of the dust disk. Various tests were made to rule out with a\\ngood confidence level possible instrumental or atmospheric artifacts. The\\nprobability of a foreground or background contaminant is extremely low, based\\nin addition on the analysis of previous deep Hubble Space Telescope images. The\\nobject L'=11.2 apparent magnitude would indicate a typical temperature of ~1500\\nK and a mass of ~ 8 Jovian masses. If confirmed, it could explain the main\\nmorphological and dynamical peculiarities of the Beta Pic system. The present\\ndetection is unique among A-stars by the proximity of the resolved planet to\\nits parent star. Its closeness and location inside the Beta Pic disk suggest a\\nformation process by core accretion or disk instabilities rather than a\\nbinary-like formation process.\\n\", 'versions': [{'version': 'v1', 'created': 'Fri, 21 Nov 2008 17:04:41 GMT'}], 'update_date': '2010-03-15', 'authors_parsed': [['Lagrange', 'A. -M.', ''], ['Gratadour', 'D.', ''], ['Chauvin', 'G.', ''], ['Fusco', 'T.', ''], ['Ehrenreich', 'D.', ''], ['Mouillet', 'D.', ''], ['Rousset', 'G.', ''], ['Rouan', 'D.', ''], ['Allard', 'F.', ''], ['Gendron', 'E.', ''], ['Charton', 'J.', ''], ['Mugnier', 'L.', ''], ['Rabou', 'P.', ''], ['Montri', 'J.', ''], ['Lacombe', 'F.', '']]} score: 0.4221563486246863\n",
      "{'id': '1006.3314', 'submitter': 'David Ehrenreich', 'authors': 'A.-M. Lagrange, M. Bonnefoy, G. Chauvin, D. Apai, D. Ehrenreich, A.\\n  Boccaletti, D. Gratadour, D. Rouan, D. Mouillet, S. Lacour, M. Kasper', 'title': 'A giant planet imaged in the disk of the young star Beta Pictoris', 'comments': '4 pages, 2 figures. Published online 10 June 2010;\\n  10.1126/science.1187187. To appear in Science', 'journal-ref': None, 'doi': '10.1126/science.1187187', 'report-no': None, 'categories': 'astro-ph.EP', 'license': 'http://arxiv.org/licenses/nonexclusive-distrib/1.0/', 'abstract': '  Here we show that the ~10 Myr Beta Pictoris system hosts a massive giant\\nplanet, Beta Pictoris b, located 8 to 15 AU from the star. This result confirms\\nthat gas giant planets form rapidly within disks and validates the use of disk\\nstructures as fingerprints of embedded planets. Among the few planets already\\nimaged, Beta Pictoris b is the closest to its parent star. Its short period\\ncould allow recording the full orbit within 17 years.\\n', 'versions': [{'version': 'v1', 'created': 'Wed, 16 Jun 2010 20:01:47 GMT'}], 'update_date': '2015-05-19', 'authors_parsed': [['Lagrange', 'A. -M.', ''], ['Bonnefoy', 'M.', ''], ['Chauvin', 'G.', ''], ['Apai', 'D.', ''], ['Ehrenreich', 'D.', ''], ['Boccaletti', 'A.', ''], ['Gratadour', 'D.', ''], ['Rouan', 'D.', ''], ['Mouillet', 'D.', ''], ['Lacour', 'S.', ''], ['Kasper', 'M.', '']]} score: 0.41427750668460817\n",
      "{'id': '1403.7520', 'submitter': 'James R. Graham', 'authors': \"Bruce Macintosh (1, 2), James R. Graham (3), Patrick Ingraham (2),\\n  Quinn Konopacky (4), Christian Marois (5), Marshall Perrin (6), Lisa Poyneer\\n  (1), Brian Bauman (1), Travis Barman (7), Adam Burrows (8), Andrew Cardwell\\n  (9), Jeffrey Chilcote, Robert J. De Rosa (11), Daren Dillon (12), Rene Doyon\\n  (13), Jennifer Dunn (5), Darren Erikson (5), Michael Fitzgerald (10), Donald\\n  Gavel (12), Stephen Goodsell (9), Markus Hartung (9), Pascale Hibon (9), Paul\\n  G. Kalas (3), James Larkin (10), Jerome Maire (4), Franck Marchis (14), Mark\\n  Marley (15), James McBride (3), Max Millar-Blanchaer (4), Katie Morzinski\\n  (7), Andew Norton (12), B. R. Oppenheimer (16), Dave Palmer (1), Jennifer\\n  Patience (11), Laurent Pueyo (6), Fredrik Rantakyro (9), Naru Sadakuni (9),\\n  Leslie Saddlemyer (5), Dmitry Savransky (17), Andrew Serio (9), Remi Soummer\\n  (6), Anand Sivaramakrishnan (6), Inseok Song (18), Sandrine Thomas (15), J.\\n  Kent Wallace (19), Sloane Wiktorowicz (12), Schuyler Wolff (20) ((1) Lawrence\\n  Livermore National Laboratory, (2) Kavli Institute for Particle Astrophysics\\n  and Cosmology, Stanford University, (3) University of California, Berkeley,\\n  (4) University of Toronto, (5) National Research Council of Canada, (6) Space\\n  Telescope Science Institute, (7) University of Arizona, (8) Princeton\\n  University, (9) Gemini Observatory, (10) University of California, Los\\n  Angeles, (11) Arizona State University, (12) University of California, Santa\\n  Cruz, (13) Universit\\\\'e de Montr\\\\'eal and Observatoire du Mont-M\\\\'agnatic,\\n  (14) SETI Institute, (15) NASA/Ames, (16) American Museum of Natural History,\\n  (17) Cornell University, (18) University of Georgia, (19) Jet Propulsion\\n  Laboratory/California Institute of Technology, (20) Johns Hopkins University)\", 'title': 'The Gemini Planet Imager: First Light', 'comments': '9 pages, 5 figures, accepted for publication Proc. Natl. Acad. Sci', 'journal-ref': None, 'doi': '10.1073/pnas.1304215111', 'report-no': None, 'categories': 'astro-ph.EP astro-ph.IM', 'license': 'http://arxiv.org/licenses/nonexclusive-distrib/1.0/', 'abstract': '  The Gemini Planet Imager (GPI) is a dedicated facility for directly imaging\\nand spectroscopically characterizing extrasolar planets. It combines a very\\nhigh-order adaptive optics system, a diffraction-suppressing coronagraph, and\\nan integral field spectrograph with low spectral resolution but high spatial\\nresolution. Every aspect of GPI has been tuned for maximum sensitivity to faint\\nplanets near bright stars. During first light observations, we achieved an\\nestimated H band Strehl ratio of 0.89 and a 5-sigma contrast of $10^6$ at 0.75\\narcseconds and $10^5$ at 0.35 arcseconds. Observations of Beta Pictoris clearly\\ndetect the planet, Beta Pictoris b, in a single 60-second exposure with minimal\\npost-processing. Beta Pictoris b is observed at a separation of $434 \\\\pm 6$\\nmilli-arcseconds and position angle $211.8 \\\\pm 0.5$ deg. Fitting the Keplerian\\norbit of Beta Pic b using the new position together with previous astrometry\\ngives a factor of three improvement in most parameters over previous solutions.\\nThe planet orbits at a semi-major axis of $9.0^{+0.8}_{-0.4}$ AU near the 3:2\\nresonance with the previously-known 6 AU asteroidal belt and is aligned with\\nthe inner warped disk. The observations give a 4% posterior probability of a\\ntransit of the planet in late 2017.\\n', 'versions': [{'version': 'v1', 'created': 'Fri, 28 Mar 2014 19:59:36 GMT'}], 'update_date': '2015-06-19', 'authors_parsed': [['Macintosh', 'Bruce', ''], ['Graham', 'James R.', ''], ['Ingraham', 'Patrick', ''], ['Konopacky', 'Quinn', ''], ['Marois', 'Christian', ''], ['Perrin', 'Marshall', ''], ['Poyneer', 'Lisa', ''], ['Bauman', 'Brian', ''], ['Barman', 'Travis', ''], ['Burrows', 'Adam', ''], ['Cardwell', 'Andrew', ''], ['Chilcote', 'Jeffrey', ''], ['De Rosa', 'Robert J.', ''], ['Dillon', 'Daren', ''], ['Doyon', 'Rene', ''], ['Dunn', 'Jennifer', ''], ['Erikson', 'Darren', ''], ['Fitzgerald', 'Michael', ''], ['Gavel', 'Donald', ''], ['Goodsell', 'Stephen', ''], ['Hartung', 'Markus', ''], ['Hibon', 'Pascale', ''], ['Kalas', 'Paul G.', ''], ['Larkin', 'James', ''], ['Maire', 'Jerome', ''], ['Marchis', 'Franck', ''], ['Marley', 'Mark', ''], ['McBride', 'James', ''], ['Millar-Blanchaer', 'Max', ''], ['Morzinski', 'Katie', ''], ['Norton', 'Andew', ''], ['Oppenheimer', 'B. R.', ''], ['Palmer', 'Dave', ''], ['Patience', 'Jennifer', ''], ['Pueyo', 'Laurent', ''], ['Rantakyro', 'Fredrik', ''], ['Sadakuni', 'Naru', ''], ['Saddlemyer', 'Leslie', ''], ['Savransky', 'Dmitry', ''], ['Serio', 'Andrew', ''], ['Soummer', 'Remi', ''], ['Sivaramakrishnan', 'Anand', ''], ['Song', 'Inseok', ''], ['Thomas', 'Sandrine', ''], ['Wallace', 'J. Kent', ''], ['Wiktorowicz', 'Sloane', ''], ['Wolff', 'Schuyler', '']]} score: 0.4128507150640151\n",
      "{'id': '0903.1101', 'submitter': 'Alain Lecavelier des Etangs', 'authors': 'A. Lecavelier des Etangs, A. Vidal-Madjar', 'title': 'Is Beta Pic b the transiting planet of November 1981?', 'comments': 'Accepted for publication in Astronomy and Astrophysics', 'journal-ref': None, 'doi': '10.1051/0004-6361/200811528', 'report-no': None, 'categories': 'astro-ph.EP', 'license': 'http://arxiv.org/licenses/nonexclusive-distrib/1.0/', 'abstract': '  In 1981, Beta Pictoris showed strong and rapid photometric variations that\\nwere attributed to the transit of a giant comet or a planet orbiting at several\\nAUs (Lecavelier des Etangs et al. 1994, 1995, 1997; Lamers et al. 1997).\\nRecently, a candidate planet has been identified by imagery in the\\ncircumstellar disk of Beta Pictoris (Lagrange et al. 2009). This planet, named\\nBeta Pic b, is observed at a projected distance of 8AU from the central star.\\nIt is therefore a plausible candidate for the photometric event observed in\\n1981. The coincidence of the observed position of the planet in November 2003\\nand the calculated position assuming that the 1981 transit is due to a planet\\norbiting at 8 AU is intriguing. Assuming that the planet that is detected on\\nthe image is the same as the object transiting in November 1981, we estimate\\nranges of possible orbital distances and periods. In the favored scenario, the\\nplanet orbits at about 8 AU and was seen close to its quadrature position in\\nthe 2003 images. In this case, most of the uncertainties are related to error\\nbars on the position in 2003. Uncertainties related to the stellar mass and\\norbital eccentricity are also discussed. We find a semi-major axis in the range\\n[7.6-8.7] AU and an orbital period in the range [15.9-19.5] years. We give\\npredictions for imaging observations at quadrature in the southwest branch of\\nthe disk in future years (2011-2015). We also estimate possible dates for the\\nnext transits and anti-transits.\\n', 'versions': [{'version': 'v1', 'created': 'Thu, 5 Mar 2009 21:00:11 GMT'}], 'update_date': '2009-11-13', 'authors_parsed': [['Etangs', 'A. Lecavelier des', ''], ['Vidal-Madjar', 'A.', '']]} score: 0.4045264851513957\n",
      "{'id': '1109.2230', 'submitter': 'Benjamin Taylor', 'authors': 'Benjamin J. Taylor and Michael D. Joner', 'title': 'Selecting High-Precision Photometry on Uniform Zero Points for Five\\n  Benchmark Galactic Clusters', 'comments': None, 'journal-ref': None, 'doi': None, 'report-no': None, 'categories': 'astro-ph.GA', 'license': 'http://arxiv.org/licenses/nonexclusive-distrib/1.0/', 'abstract': '  This paper reviews results from two projects designed to yield photometry on\\nuniform zero points for five clusters--Coma, the Hyades, M67, NGC 752, and\\nPraesepe. Contributing papers for a project on Cousins VRI photometry and a\\nproject on Stromgren-beta photometry are listed. Results of zero point tests of\\nthe photometry are reviewed, and their character is found to be satisfactory at\\nthe level of a few mmag. Responses to extant criticisms of the photometry are\\noffered, and a section on B-V photometry for the five clusters is included.\\nBecause the results of the projects suggest that certain changes should be made\\nin current perspectives on photometry, those changes are reviewed. Finally,\\nsuggestions are made about future uses of data from the projects.\\n', 'versions': [{'version': 'v1', 'created': 'Sat, 10 Sep 2011 15:27:26 GMT'}], 'update_date': '2011-09-13', 'authors_parsed': [['Taylor', 'Benjamin J.', ''], ['Joner', 'Michael D.', '']]} score: 0.4023360270780837\n",
      "{'id': '1711.01955', 'submitter': 'Jing-Jing Liu', 'authors': 'Jing-Jing Liu, and Dong-Mei Liu', 'title': 'Supernova {\\\\beta}^- decay of nuclides 53Fe, 54Fe, 55Fe, and 56Fe in\\n  strongly screened plasma', 'comments': '10 pages, 45 figures, accepted for publication in Resarch in\\n  Astronomy and Astrophysics', 'journal-ref': None, 'doi': None, 'report-no': None, 'categories': 'nucl-th astro-ph.SR hep-ph', 'license': 'http://creativecommons.org/licenses/by/4.0/', 'abstract': '  The electron screening strong effect on the electron energy and threshold\\nenergy of the beta decay reaction. in this paper, we study the $\\\\beta^-$ decay\\nrates of some iron isotopes. The electron screening beta decay rates increase\\nby about two orders of magnitude. The strong screening beta decay rates due to\\nQ-value correction are by more than one order of magnitude higher than those of\\nwithout Q-value correction.\\n', 'versions': [{'version': 'v1', 'created': 'Fri, 3 Nov 2017 13:39:20 GMT'}, {'version': 'v2', 'created': 'Thu, 1 Feb 2018 05:05:31 GMT'}, {'version': 'v3', 'created': 'Mon, 5 Feb 2018 04:49:37 GMT'}], 'update_date': '2018-02-06', 'authors_parsed': [['Liu', 'Jing-Jing', ''], ['Liu', 'Dong-Mei', '']]} score: 0.3834750136836378\n",
      "{'id': '1609.09095', 'submitter': 'Eric Nielsen', 'authors': 'Eric L. Nielsen, Robert J. De Rosa, Jason Wang, Julien Rameau, Inseok\\n  Song, James R. Graham, Bruce Macintosh, Mark Ammons, Vanessa P. Bailey,\\n  Travis S. Barman, Joanna Bulger, Jeffrey K. Chilcote, Tara Cotten, Rene\\n  Doyon, Gaspard Duchene, Michael P. Fitzgerald, Katherine B. Follette,\\n  Alexandra Z. Greenbaum, Pascale Hibon, Li-Wei Hung, Patrick Ingraham, Paul\\n  Kalas, Quinn M. Konopacky, James E. Larkin, Jerome Maire, Franck Marchis,\\n  Mark S. Marley, Christian Marois, Stanimir Metchev, Maxwell A.\\n  Millar-Blanchaer, Rebecca Oppenheimer, David W. Palmer, Jenny Patience,\\n  Marshall D. Perrin, Lisa A. Poyneer, Laurent Pueyo, Abhijith Rajan, Fredrik\\n  T. Rantakyro, Dmitry Savransky, Adam C. Schneider, Anand Sivaramakrishnan,\\n  Remi Soummer, Sandrine Thomas, J. Kent Wallace, Kimberly Ward-Duong, Sloane\\n  J. Wiktorowicz, Schuyler G. Wolff', 'title': 'Dynamical Mass Measurement of the Young Spectroscopic Binary V343 Normae\\n  AaAb Resolved With the Gemini Planet Imager', 'comments': '12 pages, 7 figures. Accepted to AJ', 'journal-ref': None, 'doi': '10.3847/0004-6256/152/6/175', 'report-no': None, 'categories': 'astro-ph.SR', 'license': 'http://arxiv.org/licenses/nonexclusive-distrib/1.0/', 'abstract': '  We present new spatially resolved astrometry and photometry from the Gemini\\nPlanet Imager of the inner binary of the young multiple star system V343\\nNormae, which is a member of the beta Pictoris moving group. V343 Normae\\ncomprises a K0 and mid-M star in a ~4.5 year orbit (AaAb) and a wide 10\" M5\\ncompanion (B). By combining these data with archival astrometry and radial\\nvelocities we fit the orbit and measure individual masses for both components\\nof M_Aa = 1.10 +/- 0.10 M_sun and M_Ab = 0.290 +/- 0.018 M_sun. Comparing to\\ntheoretical isochrones, we find good agreement for the measured masses and JHK\\nband magnitudes of the two components consistent with the age of the beta Pic\\nmoving group. We derive a model-dependent age for the beta Pic moving group of\\n26 +/- 3 Myr by combining our results for V343 Normae with literature\\nmeasurements for GJ 3305, which is another group member with resolved binary\\ncomponents and dynamical masses.\\n', 'versions': [{'version': 'v1', 'created': 'Wed, 28 Sep 2016 20:01:51 GMT'}], 'update_date': '2016-12-07', 'authors_parsed': [['Nielsen', 'Eric L.', ''], ['De Rosa', 'Robert J.', ''], ['Wang', 'Jason', ''], ['Rameau', 'Julien', ''], ['Song', 'Inseok', ''], ['Graham', 'James R.', ''], ['Macintosh', 'Bruce', ''], ['Ammons', 'Mark', ''], ['Bailey', 'Vanessa P.', ''], ['Barman', 'Travis S.', ''], ['Bulger', 'Joanna', ''], ['Chilcote', 'Jeffrey K.', ''], ['Cotten', 'Tara', ''], ['Doyon', 'Rene', ''], ['Duchene', 'Gaspard', ''], ['Fitzgerald', 'Michael P.', ''], ['Follette', 'Katherine B.', ''], ['Greenbaum', 'Alexandra Z.', ''], ['Hibon', 'Pascale', ''], ['Hung', 'Li-Wei', ''], ['Ingraham', 'Patrick', ''], ['Kalas', 'Paul', ''], ['Konopacky', 'Quinn M.', ''], ['Larkin', 'James E.', ''], ['Maire', 'Jerome', ''], ['Marchis', 'Franck', ''], ['Marley', 'Mark S.', ''], ['Marois', 'Christian', ''], ['Metchev', 'Stanimir', ''], ['Millar-Blanchaer', 'Maxwell A.', ''], ['Oppenheimer', 'Rebecca', ''], ['Palmer', 'David W.', ''], ['Patience', 'Jenny', ''], ['Perrin', 'Marshall D.', ''], ['Poyneer', 'Lisa A.', ''], ['Pueyo', 'Laurent', ''], ['Rajan', 'Abhijith', ''], ['Rantakyro', 'Fredrik T.', ''], ['Savransky', 'Dmitry', ''], ['Schneider', 'Adam C.', ''], ['Sivaramakrishnan', 'Anand', ''], ['Soummer', 'Remi', ''], ['Thomas', 'Sandrine', ''], ['Wallace', 'J. Kent', ''], ['Ward-Duong', 'Kimberly', ''], ['Wiktorowicz', 'Sloane J.', ''], ['Wolff', 'Schuyler G.', '']]} score: 0.38209529612106197\n",
      "{'id': '1407.4001', 'submitter': 'Mickael Bonnefoy', 'authors': 'M. Bonnefoy, G.-D. Marleau, R. Galicher, H. Beust, A.-M. Lagrange,\\n  J.-L. Baudino, G. Chauvin, S. Borgniet, N. Meunier, J. Rameau, A. Boccaletti,\\n  A. Cumming, C. Helling, D. Homeier, F. Allard and P. Delorme', 'title': 'Physical and orbital properties of Beta Pictoris b', 'comments': '4 pages, 4 figures, 2 tables. 4 online appendices. Accepted for\\n  publication in A&A letters', 'journal-ref': 'A&A 567, L9 (2014)', 'doi': '10.1051/0004-6361/201424041', 'report-no': None, 'categories': 'astro-ph.EP', 'license': 'http://arxiv.org/licenses/nonexclusive-distrib/1.0/', 'abstract': \"  The intermediate-mass star Beta Pictoris is known to be surrounded by a\\nstructured edge-on debris disk within which a gas giant planet was discovered\\norbiting at 8-10 AU. The physical properties of Beta Pic b were previously\\ninferred from broad and narrow-band 0.9-4.8 microns photometry. We used\\ncommissioning data of the Gemini Planet Imager (GPI) to obtain new astrometry\\nand a low-resolution (R=35-39) J-band (1.12-1.35 microns) spectrum of the\\nplanet. We find that the planet has passed the quadrature. We constrain its\\nsemi-major axis to $\\\\leq$ 10 AU (90 % prob.) with a peak at 8.9+0.4-0.6 AU. The\\njoint fit of the planet astrometry and the most recent radial velocity\\nmeasurements of the star yields a planet's dynamical mass $\\\\leq$ 20 MJup\\n(greater than 96 % prob.). The extracted spectrum of Beta Pic b is similar to\\nthose of young L1-1.5+1 dwarfs. We use the spectral type estimate to revise the\\nplanet luminosity to log(L/Lsun)=-3.90+-0.07. The 0.9-4.8 microns photometry\\nand spectrum are reproduced for Teff=1650+-150 K and a log g lower than 4.7 dex\\nby 12 grids of PHOENIX-based and LESIA atmospheric models. If we adopt the most\\nrecent system age estimate (21+-4 Myr), the bolometric luminosity and the\\nconstraints on the dynamical mass of Beta Pic b are only reproduced by warm-\\nand hot-start tracks with initial entropies Si greater than 10.5 kB/baryon.\\nSuch initial conditions may result from an inefficient accretion shock and/or a\\nplanetesimal density at formation higher than in the classical core accretion\\nmodel. Considering a younger age for the system or a conservative formation\\ntime for Beta Pic b does not change these conclusions.\\n\", 'versions': [{'version': 'v1', 'created': 'Tue, 15 Jul 2014 14:10:37 GMT'}], 'update_date': '2014-09-05', 'authors_parsed': [['Bonnefoy', 'M.', ''], ['Marleau', 'G. -D.', ''], ['Galicher', 'R.', ''], ['Beust', 'H.', ''], ['Lagrange', 'A. -M.', ''], ['Baudino', 'J. -L.', ''], ['Chauvin', 'G.', ''], ['Borgniet', 'S.', ''], ['Meunier', 'N.', ''], ['Rameau', 'J.', ''], ['Boccaletti', 'A.', ''], ['Cumming', 'A.', ''], ['Helling', 'C.', ''], ['Homeier', 'D.', ''], ['Allard', 'F.', ''], ['Delorme', 'P.', '']]} score: 0.38179188972225886\n"
     ]
    }
   ],
   "source": [
    "query(input(\"Enter a query:\"))"
   ]
  },
  {
   "cell_type": "code",
   "execution_count": 21,
   "metadata": {},
   "outputs": [],
   "source": [
    "# Write a chatbot with RAG!\n",
    "\n",
    "import ollama\n",
    "\n",
    "def query(client, model, text):\n",
    "    hits = client.query_points(\n",
    "        collection_name=\"abstracts\",\n",
    "        query=model.encode(text).tolist(),\n",
    "        limit=10,\n",
    "    ).points\n",
    "\n",
    "    # for hit in hits:\n",
    "        # print(hit.payload, \"score:\", hit.score)\n",
    "\n",
    "    return [hit.payload for hit in hits]\n",
    "    \n",
    "\n",
    "def chat(client, model):\n",
    "    messages = [\n",
    "        {\"role\": \"system\", \"content\": \"You are an expert astronomer who has read all of arXiv astro-ph.\"},\n",
    "    ]\n",
    "\n",
    "    while True:\n",
    "        user_input = input(\"What do you want to say: \")\n",
    "        \n",
    "        # Retrieval\n",
    "        docs = query(client, model, user_input)\n",
    "\n",
    "        # Augment\n",
    "        prompt = \"\\n\".join([doc[\"abstract\"] for doc in docs])\n",
    "        prompt += \"\\nBased on the above documents, answer this query: \" + user_input\n",
    "        messages.append({\"role\": \"user\", \"content\": prompt})\n",
    "\n",
    "        # Generation\n",
    "        response = ollama.chat(\"llama3.2\", messages=messages)\n",
    "        \n",
    "        print(response[\"message\"][\"content\"])  # {\"role\": \"assistant\", \"content\": \"...\"}\n",
    "        \n",
    "        messages.append(response[\"message\"])\n",
    "\n",
    "\n",
    "def main():\n",
    "    model = SentenceTransformer(\"all-MiniLM-L6-v2\")\n",
    "    client = QdrantClient(path=\"db\")\n",
    "\n",
    "    chat(client, model)\n"
   ]
  }
 ],
 "metadata": {
  "kernelspec": {
   "display_name": "nlp",
   "language": "python",
   "name": "python3"
  },
  "language_info": {
   "codemirror_mode": {
    "name": "ipython",
    "version": 3
   },
   "file_extension": ".py",
   "mimetype": "text/x-python",
   "name": "python",
   "nbconvert_exporter": "python",
   "pygments_lexer": "ipython3",
   "version": "3.12.4"
  }
 },
 "nbformat": 4,
 "nbformat_minor": 2
}
