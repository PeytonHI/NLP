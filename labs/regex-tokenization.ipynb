{
 "cells": [
  {
   "cell_type": "markdown",
   "metadata": {},
   "source": [
    "# Regex and Tokenization\n",
    "\n",
    "For regex, a great website that explains regex is https://regexr.com/"
   ]
  },
  {
   "cell_type": "code",
   "execution_count": null,
   "metadata": {},
   "outputs": [],
   "source": [
    "import re"
   ]
  },
  {
   "cell_type": "code",
   "execution_count": null,
   "metadata": {},
   "outputs": [],
   "source": [
    "# search for a string\n",
    "re.search(r\"ha\", \"aloha\")"
   ]
  },
  {
   "cell_type": "code",
   "execution_count": null,
   "metadata": {},
   "outputs": [],
   "source": [
    "# search for a single character matching one of the choices\n",
    "re.search(r\"[Aa]\", \"aloha\")"
   ]
  },
  {
   "cell_type": "code",
   "execution_count": null,
   "metadata": {},
   "outputs": [],
   "source": [
    "# search for a single character in a range\n",
    "re.search(r\"[g-i]\", \"aloha\")"
   ]
  },
  {
   "cell_type": "code",
   "execution_count": null,
   "metadata": {},
   "outputs": [],
   "source": [
    "# search for a single character NOT in a range\n",
    "re.search(r\"[^a-g]\", \"aloha\")"
   ]
  },
  {
   "cell_type": "code",
   "execution_count": null,
   "metadata": {},
   "outputs": [],
   "source": [
    "# . matches any character, so 5 dots is 5 characters\n",
    "re.search(r\".....\", \"aloha\")"
   ]
  },
  {
   "cell_type": "code",
   "execution_count": null,
   "metadata": {},
   "outputs": [],
   "source": [
    "# + searches for 1 or more\n",
    "re.search(r\"h+\", \"aloha\")"
   ]
  },
  {
   "cell_type": "code",
   "execution_count": null,
   "metadata": {},
   "outputs": [],
   "source": [
    "# * searches for 0 or more\n",
    "re.search(r\"z*\", \"aloha\")"
   ]
  },
  {
   "cell_type": "code",
   "execution_count": null,
   "metadata": {},
   "outputs": [],
   "source": [
    "# findall returns a list of matches\n",
    "for m in re.findall(r\"[a-h]\", \"aloha\"):\n",
    "    print(m)"
   ]
  },
  {
   "cell_type": "code",
   "execution_count": null,
   "metadata": {},
   "outputs": [],
   "source": [
    "# basic email validator\n",
    "# (can you come up with an email address where it fails?)\n",
    "if re.match(r\"\\w+@[a-z]+\\.[a-z]\", \"username@domain.edu\"):\n",
    "    print(\"valid email!\")\n",
    "else:\n",
    "    print(\"invalid\")"
   ]
  },
  {
   "cell_type": "code",
   "execution_count": null,
   "metadata": {},
   "outputs": [],
   "source": [
    "# capture groups\n",
    "text = \"this and that\"\n",
    "m = re.match(r\"(.+) and (.+)\", text)\n",
    "print(m.group(0))  # the whole match\n",
    "print(m.group(1))  # whatever is in the first set of ()\n",
    "print(m.group(2))  # whatever is in the first set of ()"
   ]
  },
  {
   "cell_type": "code",
   "execution_count": null,
   "metadata": {},
   "outputs": [],
   "source": [
    "# ? matches 0 or 1\n",
    "print(re.search(r\"aloha?\", \"aloha\"))\n",
    "print(re.search(r\"aloha?\", \"aloh\"))"
   ]
  },
  {
   "cell_type": "code",
   "execution_count": null,
   "metadata": {},
   "outputs": [],
   "source": [
    "# for 2 or more, use {#}\n",
    "re.search(r\"[aeiou]{2}\", \"aloha, pehea ʻoe?\")"
   ]
  },
  {
   "cell_type": "code",
   "execution_count": null,
   "metadata": {},
   "outputs": [],
   "source": [
    "# * and + are greedy, they will try to go until they can't stop\n",
    "# .+ goes until it hits the last \\b (end of the string)\n",
    "print(re.search(r\"I like .+\\b\", \"I like fish and chips\"))\n",
    "\n",
    "# to make it non-greedy, use .+?\\b (one or more of any character, until you hit \\b)\n",
    "print(re.search(r\"I like .+?\\b\", \"I like fish and chips\"))"
   ]
  },
  {
   "cell_type": "code",
   "execution_count": null,
   "metadata": {},
   "outputs": [],
   "source": [
    "# extracting things from text\n",
    "text = \"I like fish, she likes meat, and he liked NLP\"\n",
    "for x in re.findall(r\"\\blike[ds]? (.+?)\\b\", text):\n",
    "    print(x)"
   ]
  },
  {
   "cell_type": "code",
   "execution_count": null,
   "metadata": {},
   "outputs": [],
   "source": [
    "# Basic lemmatizing\n",
    "# Try with other suffixes: -ed, -ing, -tion, -er\n",
    "# Why was lemmatization useful again? 💡\n",
    "text = \"she loves cats and playing playstations\"\n",
    "text = re.sub(r\"s\\b\", \"\", text)\n",
    "print(text)"
   ]
  },
  {
   "cell_type": "code",
   "execution_count": null,
   "metadata": {},
   "outputs": [],
   "source": [
    "# It's not too hard to write a basic markdown to HTML converter\n",
    "# (a fully compliant one is more challenging though)\n",
    "# TODO: write more regex subs to implement the function\n",
    "def convert_markdown(text):\n",
    "    html = \"\"\n",
    "    for line in text.split(\"\\n\"):\n",
    "        line = re.sub(r\"^# (.+)\", r\"<h1>\\1</h1>\", line)\n",
    "        line = re.sub(r\"\\*\\*(.+?)\\*\\*\", r\"<b>\\1</b>\", line)\n",
    "        html += line\n",
    "    return html\n",
    "\n",
    "md = \"\"\"\n",
    "# Title\n",
    "## Subtitle\n",
    "---\n",
    "- bullet\n",
    "- bullet2\n",
    "*italic* **bold** `code` **bold2**\n",
    "\"\"\"\n",
    "convert_markdown(md)"
   ]
  },
  {
   "cell_type": "markdown",
   "metadata": {},
   "source": [
    "## Tokenization"
   ]
  },
  {
   "cell_type": "code",
   "execution_count": null,
   "metadata": {},
   "outputs": [],
   "source": [
    "text = \"Aloha, pehea ʻoe? Maikaʻi nō!\"\n",
    "\n",
    "# why is this not ideal?\n",
    "text.split()"
   ]
  },
  {
   "cell_type": "code",
   "execution_count": null,
   "metadata": {},
   "outputs": [],
   "source": [
    "# What is wrong with this one?\n",
    "for m in re.findall(r\"\\w+\", text):\n",
    "    print(m)"
   ]
  },
  {
   "cell_type": "code",
   "execution_count": null,
   "metadata": {},
   "outputs": [],
   "source": [
    "# Here is a better one, but still not perfect\n",
    "for m in re.split(r\"\\b\", text):\n",
    "    print(m)"
   ]
  },
  {
   "cell_type": "markdown",
   "metadata": {},
   "source": [
    "## Off-the-Shelf Tokenizers\n",
    "\n",
    "Do a `conda install transformers tokenizers` first (and restart your notebook)"
   ]
  },
  {
   "cell_type": "code",
   "execution_count": 1,
   "metadata": {},
   "outputs": [
    {
     "name": "stderr",
     "output_type": "stream",
     "text": [
      "/Library/Frameworks/Python.framework/Versions/3.10/lib/python3.10/site-packages/tqdm/auto.py:21: TqdmWarning: IProgress not found. Please update jupyter and ipywidgets. See https://ipywidgets.readthedocs.io/en/stable/user_install.html\n",
      "  from .autonotebook import tqdm as notebook_tqdm\n"
     ]
    }
   ],
   "source": [
    "from transformers import AutoTokenizer"
   ]
  },
  {
   "cell_type": "code",
   "execution_count": 2,
   "metadata": {},
   "outputs": [
    {
     "name": "stderr",
     "output_type": "stream",
     "text": [
      "/Library/Frameworks/Python.framework/Versions/3.10/lib/python3.10/site-packages/transformers/tokenization_utils_base.py:1601: FutureWarning: `clean_up_tokenization_spaces` was not set. It will be set to `True` by default. This behavior will be depracted in transformers v4.45, and will be then set to `False` by default. For more details check this issue: https://github.com/huggingface/transformers/issues/31884\n",
      "  warnings.warn(\n"
     ]
    }
   ],
   "source": [
    "tokenizer = AutoTokenizer.from_pretrained(\"gpt2\")"
   ]
  },
  {
   "cell_type": "code",
   "execution_count": 3,
   "metadata": {},
   "outputs": [
    {
     "data": {
      "text/plain": [
       "'He never spoke of the softer passions, save with a gibe\\nand a sneer.'"
      ]
     },
     "execution_count": 3,
     "metadata": {},
     "output_type": "execute_result"
    }
   ],
   "source": [
    "sherlock = open(\"sherlock.txt\").read()\n",
    "text = sherlock[1077:1145]  # try other sections of the text\n",
    "text"
   ]
  },
  {
   "cell_type": "code",
   "execution_count": 4,
   "metadata": {},
   "outputs": [
    {
     "name": "stdout",
     "output_type": "stream",
     "text": [
      "He\t1544\n",
      "Ġnever\t1239\n",
      "Ġspoke\t5158\n",
      "Ġof\t286\n",
      "Ġthe\t262\n",
      "Ġsofter\t32359\n",
      "Ġpassions\t30477\n",
      ",\t11\n",
      "Ġsave\t3613\n",
      "Ġwith\t351\n",
      "Ġa\t257\n",
      "Ġg\t308\n",
      "ibe\t32438\n",
      "Ċ\t198\n",
      "and\t392\n",
      "Ġa\t257\n",
      "Ġsne\t10505\n",
      "er\t263\n",
      ".\t13\n"
     ]
    }
   ],
   "source": [
    "output = tokenizer(text)\n",
    "tokens = tokenizer.tokenize(text)\n",
    "\n",
    "for tok, id in zip(tokens, output.input_ids):\n",
    "    print(tok, id, sep='\\t')"
   ]
  },
  {
   "cell_type": "markdown",
   "metadata": {},
   "source": [
    "## Train your own tokenizer"
   ]
  },
  {
   "cell_type": "code",
   "execution_count": 2,
   "metadata": {},
   "outputs": [],
   "source": [
    "from tokenizers import Tokenizer\n",
    "from tokenizers.pre_tokenizers import Whitespace\n",
    "from tokenizers.models import BPE\n",
    "from tokenizers.trainers import BpeTrainer"
   ]
  },
  {
   "cell_type": "code",
   "execution_count": 13,
   "metadata": {},
   "outputs": [
    {
     "name": "stdout",
     "output_type": "stream",
     "text": [
      "\n",
      "\n",
      "\n"
     ]
    }
   ],
   "source": [
    "tokenizer = Tokenizer(BPE())\n",
    "tokenizer.pre_tokenizer = Whitespace()  # try commenting out this line\n",
    "\n",
    "trainer = BpeTrainer()\n",
    "tokenizer.train(files=[\"ttc.txt\"])"
   ]
  },
  {
   "cell_type": "code",
   "execution_count": 14,
   "metadata": {},
   "outputs": [],
   "source": [
    "output = tokenizer.encode(text)"
   ]
  },
  {
   "cell_type": "code",
   "execution_count": 15,
   "metadata": {},
   "outputs": [
    {
     "data": {
      "text/plain": [
       "[217,\n",
       " 395,\n",
       " 1209,\n",
       " 91,\n",
       " 77,\n",
       " 8285,\n",
       " 7936,\n",
       " 4,\n",
       " 1649,\n",
       " 121,\n",
       " 42,\n",
       " 971,\n",
       " 101,\n",
       " 85,\n",
       " 42,\n",
       " 5098,\n",
       " 83,\n",
       " 6]"
      ]
     },
     "execution_count": 15,
     "metadata": {},
     "output_type": "execute_result"
    }
   ],
   "source": [
    "output.ids"
   ]
  },
  {
   "cell_type": "code",
   "execution_count": 16,
   "metadata": {},
   "outputs": [
    {
     "data": {
      "text/plain": [
       "['He',\n",
       " 'never',\n",
       " 'spoke',\n",
       " 'of',\n",
       " 'the',\n",
       " 'softer',\n",
       " 'passions',\n",
       " ',',\n",
       " 'save',\n",
       " 'with',\n",
       " 'a',\n",
       " 'gi',\n",
       " 'be',\n",
       " 'and',\n",
       " 'a',\n",
       " 'sne',\n",
       " 'er',\n",
       " '.']"
      ]
     },
     "execution_count": 16,
     "metadata": {},
     "output_type": "execute_result"
    }
   ],
   "source": [
    "output.tokens"
   ]
  },
  {
   "cell_type": "code",
   "execution_count": 17,
   "metadata": {},
   "outputs": [
    {
     "name": "stdout",
     "output_type": "stream",
     "text": [
      "He\t217\n",
      "never\t395\n",
      "spoke\t1209\n",
      "of\t91\n",
      "the\t77\n",
      "softer\t8285\n",
      "passions\t7936\n",
      ",\t4\n",
      "save\t1649\n",
      "with\t121\n",
      "a\t42\n",
      "gi\t971\n",
      "be\t101\n",
      "and\t85\n",
      "a\t42\n",
      "sne\t5098\n",
      "er\t83\n",
      ".\t6\n"
     ]
    }
   ],
   "source": [
    "for tok, id in zip(output.tokens, output.ids):\n",
    "    print(tok, id, sep='\\t')"
   ]
  },
  {
   "cell_type": "markdown",
   "metadata": {},
   "source": [
    "Feel free to try writing your own BPE tokenizer from scratch! It's not too complicated"
   ]
  },
  {
   "cell_type": "markdown",
   "metadata": {},
   "source": []
  }
 ],
 "metadata": {
  "kernelspec": {
   "display_name": "nlp",
   "language": "python",
   "name": "python3"
  },
  "language_info": {
   "codemirror_mode": {
    "name": "ipython",
    "version": 3
   },
   "file_extension": ".py",
   "mimetype": "text/x-python",
   "name": "python",
   "nbconvert_exporter": "python",
   "pygments_lexer": "ipython3",
   "version": "3.10.8"
  }
 },
 "nbformat": 4,
 "nbformat_minor": 2
}
