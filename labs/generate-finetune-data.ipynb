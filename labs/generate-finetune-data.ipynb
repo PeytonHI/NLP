{
 "cells": [
  {
   "cell_type": "markdown",
   "metadata": {},
   "source": [
    "# Generate Finetune Data using LLMs\n",
    "\n",
    "It is expensive to get data from humans. We can use an existing model to generate data for finetuning. Woohoo, laziness!\n",
    "\n",
    "Here is an example with courses scraped from the UH Hilo website."
   ]
  },
  {
   "cell_type": "code",
   "execution_count": 2,
   "metadata": {},
   "outputs": [],
   "source": [
    "import json\n",
    "import ollama\n",
    "from tqdm.notebook import tqdm"
   ]
  },
  {
   "cell_type": "code",
   "execution_count": 12,
   "metadata": {},
   "outputs": [],
   "source": [
    "# TODO: replace this with your own data\n",
    "courses = json.load(open(r\"C:\\Users\\peyto\\Desktop\\school24\\497\\labs\\courses.json\", encoding='UTF-8'))"
   ]
  },
  {
   "cell_type": "code",
   "execution_count": 13,
   "metadata": {},
   "outputs": [],
   "source": [
    "def generate_question(description):\n",
    "    response = ollama.chat(\n",
    "        model=\"llama3.2:1b\",\n",
    "        messages=[\n",
    "            {\n",
    "                \"role\": \"user\",\n",
    "                \"content\": f\"Given the following course description, generate a question that a student would ask about this course. The student's question should mention the name of the course or the course number.\\nCourse Description: {description}\\nOnly reply with the student's question and nothing else.\"\n",
    "            }\n",
    "        ]\n",
    "    )\n",
    "    return response\n",
    "\n",
    "def generate_answer(description, question):\n",
    "    response = ollama.chat(\n",
    "        model=\"llama3.2:1b\",\n",
    "        messages=[\n",
    "            {\n",
    "                \"role\": \"user\",\n",
    "                \"content\": f\"Given the following course description, answer the question.\\nCourse Description: {description}\\nQuestion: {question}\\nJust reply with the answer.\"\n",
    "            }\n",
    "        ]\n",
    "    )\n",
    "    return response"
   ]
  },
  {
   "cell_type": "code",
   "execution_count": 14,
   "metadata": {},
   "outputs": [],
   "source": [
    "description = \"JPST 201 Intermediate Japanese I (4) (lecture/lab) Continuation of JPNS 102. More advanced colloquial structures and kanji. Pre: JPNS 102 or equivalent. (Same as JPNS 201) (Attributes: DH, GAHP, GH, GL)\"\n",
    "r = generate_question(description)"
   ]
  },
  {
   "cell_type": "code",
   "execution_count": 55,
   "metadata": {},
   "outputs": [],
   "source": []
  },
  {
   "cell_type": "code",
   "execution_count": 16,
   "metadata": {},
   "outputs": [
    {
     "data": {
      "application/vnd.jupyter.widget-view+json": {
       "model_id": "620df2dc72394c77ad446b87e6be7e80",
       "version_major": 2,
       "version_minor": 0
      },
      "text/plain": [
       "  0%|          | 0/2312 [00:00<?, ?it/s]"
      ]
     },
     "metadata": {},
     "output_type": "display_data"
    }
   ],
   "source": [
    "qa_pairs = []\n",
    "for course in tqdm(courses):\n",
    "    resp = generate_question(course[\"description\"])\n",
    "    question = resp[\"message\"][\"content\"]\n",
    "\n",
    "    resp = generate_answer(course[\"description\"], question)\n",
    "    answer = resp[\"message\"][\"content\"]\n",
    "    qa_pairs.append((question, answer))"
   ]
  },
  {
   "cell_type": "code",
   "execution_count": 17,
   "metadata": {},
   "outputs": [],
   "source": [
    "with open(\"qa_pairs.tsv\", \"w\") as fout:\n",
    "    for q, a in qa_pairs:\n",
    "        j = [{'role': 'user', 'content': q}, {'role': 'assistant', 'content': a} ]\n",
    "        print(json.dumps(j), sep='\\t', file=fout)"
   ]
  },
  {
   "cell_type": "code",
   "execution_count": 18,
   "metadata": {},
   "outputs": [],
   "source": [
    "answer = generate_answer(description, question)[\"message\"][\"content\"]"
   ]
  },
  {
   "cell_type": "code",
   "execution_count": 19,
   "metadata": {},
   "outputs": [
    {
     "data": {
      "text/plain": [
       "'The directed studies in ENGR 99 are typically 1-hour lectures and 2 hours of lab work per week, for a total of 3 academic units (or credit).'"
      ]
     },
     "execution_count": 19,
     "metadata": {},
     "output_type": "execute_result"
    }
   ],
   "source": [
    "answer"
   ]
  },
  {
   "cell_type": "code",
   "execution_count": 20,
   "metadata": {},
   "outputs": [
    {
     "data": {
      "text/plain": [
       "('What is the assignment prompt for ENGR 103 Engineering the Future II?',\n",
       " 'There is no assignment prompt provided in the course description.')"
      ]
     },
     "execution_count": 20,
     "metadata": {},
     "output_type": "execute_result"
    }
   ],
   "source": [
    "qa_pairs[-10]"
   ]
  }
 ],
 "metadata": {
  "kernelspec": {
   "display_name": "Python 3",
   "language": "python",
   "name": "python3"
  },
  "language_info": {
   "codemirror_mode": {
    "name": "ipython",
    "version": 3
   },
   "file_extension": ".py",
   "mimetype": "text/x-python",
   "name": "python",
   "nbconvert_exporter": "python",
   "pygments_lexer": "ipython3",
   "version": "3.12.4"
  }
 },
 "nbformat": 4,
 "nbformat_minor": 2
}
