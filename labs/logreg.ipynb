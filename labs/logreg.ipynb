{
 "cells": [
  {
   "cell_type": "code",
   "execution_count": 3,
   "metadata": {
    "dotnet_interactive": {
     "language": "csharp"
    },
    "polyglot_notebook": {
     "kernelName": "csharp"
    }
   },
   "outputs": [
    {
     "ename": "ModuleNotFoundError",
     "evalue": "No module named 'torch'",
     "output_type": "error",
     "traceback": [
      "\u001b[1;31m---------------------------------------------------------------------------\u001b[0m",
      "\u001b[1;31mModuleNotFoundError\u001b[0m                       Traceback (most recent call last)",
      "Cell \u001b[1;32mIn[3], line 1\u001b[0m\n\u001b[1;32m----> 1\u001b[0m \u001b[38;5;28;01mimport\u001b[39;00m \u001b[38;5;21;01mtorch\u001b[39;00m\n",
      "\u001b[1;31mModuleNotFoundError\u001b[0m: No module named 'torch'"
     ]
    }
   ],
   "source": [
    "import torch"
   ]
  },
  {
   "cell_type": "code",
   "execution_count": 25,
   "metadata": {},
   "outputs": [],
   "source": [
    "# Read dataset\n",
    "def read_data():\n",
    "    train = []\n",
    "    with open(\"SH-TTC/train.tsv\") as fin:\n",
    "        for line in fin:\n",
    "            label, text = line.strip().split(\"\\t\")\n",
    "            tokens = text.split()  # could do better tokenization here\n",
    "            train.append((label, tokens))\n",
    "\n",
    "    dev = []\n",
    "    with open(\"SH-TTC/dev.tsv\") as fin:\n",
    "        for line in fin:\n",
    "            label, text = line.strip().split(\"\\t\")\n",
    "            tokens = text.split()\n",
    "            dev.append((label, tokens))\n",
    "    \n",
    "    return train, dev\n",
    "\n",
    "train_data_raw, dev_data_raw = read_data()"
   ]
  },
  {
   "cell_type": "code",
   "execution_count": 8,
   "metadata": {},
   "outputs": [],
   "source": [
    "train_data_raw[0]"
   ]
  },
  {
   "cell_type": "code",
   "execution_count": 9,
   "metadata": {},
   "outputs": [],
   "source": [
    "def build_voc(data):\n",
    "    \"\"\"\n",
    "    Build vocabulary mapping, reserving idx 0 for [UNK]\n",
    "    \"\"\"\n",
    "    feat2idx = {}\n",
    "    feat2idx[\"[UNK]\"] = 0\n",
    "    next_idx = 1\n",
    "    for label, features in data:\n",
    "        for feat in features:\n",
    "            if feat not in feat2idx:\n",
    "                feat2idx[feat] = next_idx\n",
    "                next_idx += 1\n",
    "    return feat2idx\n",
    "\n",
    "feat2idx = build_voc(train_data_raw)  # only use train, not dev (why?)"
   ]
  },
  {
   "cell_type": "code",
   "execution_count": 26,
   "metadata": {},
   "outputs": [],
   "source": [
    "def to_id(feat):\n",
    "    return feat2idx.get(feat, feat2idx[\"[UNK]\"])"
   ]
  },
  {
   "cell_type": "code",
   "execution_count": 13,
   "metadata": {},
   "outputs": [],
   "source": [
    "VOC_SIZE = len(feat2idx)\n",
    "VOC_SIZE"
   ]
  },
  {
   "cell_type": "code",
   "execution_count": 27,
   "metadata": {},
   "outputs": [],
   "source": [
    "def process_data(raw_data):\n",
    "    \"\"\"\n",
    "    Convert data to tensors\n",
    "    \"\"\"\n",
    "    data = []\n",
    "    for label, features in raw_data:\n",
    "        # convert y\n",
    "        if label == \"SH\":\n",
    "            y = torch.Tensor([0])\n",
    "        else:  # TTC\n",
    "            y = torch.Tensor([1])\n",
    "\n",
    "        # convert x\n",
    "        x = torch.zeros(VOC_SIZE)\n",
    "        for feat in features:\n",
    "            x[to_id(feat)] += 1\n",
    "\n",
    "        data.append((x, y))\n",
    "    return data"
   ]
  },
  {
   "cell_type": "code",
   "execution_count": 28,
   "metadata": {},
   "outputs": [],
   "source": [
    "train_data = process_data(train_data_raw)\n",
    "dev_data = process_data(dev_data_raw)"
   ]
  },
  {
   "cell_type": "code",
   "execution_count": 29,
   "metadata": {},
   "outputs": [],
   "source": [
    "train_data[0]"
   ]
  },
  {
   "cell_type": "code",
   "execution_count": 22,
   "metadata": {},
   "outputs": [],
   "source": [
    "train_data[0][0].shape"
   ]
  },
  {
   "cell_type": "code",
   "execution_count": 23,
   "metadata": {},
   "outputs": [],
   "source": [
    "train_data[0][1].shape"
   ]
  },
  {
   "cell_type": "markdown",
   "metadata": {},
   "source": [
    "## Model!\n",
    "\n",
    "Logistic regression is $\\sigma(Wx + b)$. `Linear` is a PyTorch object that implements Wx + b, and `torch.sigmoid` is the sigmoid function."
   ]
  },
  {
   "cell_type": "code",
   "execution_count": 30,
   "metadata": {},
   "outputs": [],
   "source": [
    "lin = torch.nn.Linear(VOC_SIZE, 1)  # input = |V|, output = 1"
   ]
  },
  {
   "cell_type": "code",
   "execution_count": 31,
   "metadata": {},
   "outputs": [],
   "source": [
    "# what are its parameters?\n",
    "for p in lin.parameters():\n",
    "    print(p)"
   ]
  },
  {
   "cell_type": "code",
   "execution_count": 33,
   "metadata": {},
   "outputs": [],
   "source": [
    "# test out linear\n",
    "features = [\"hello\", \"this\", \"is\", \"a\", \"test\"]\n",
    "x = torch.zeros(VOC_SIZE)\n",
    "for feat in features:\n",
    "    x[to_id(feat)] += 1"
   ]
  },
  {
   "cell_type": "code",
   "execution_count": 34,
   "metadata": {},
   "outputs": [],
   "source": [
    "lin(x)  # Wx + b"
   ]
  },
  {
   "cell_type": "markdown",
   "metadata": {},
   "source": [
    "Notice that PyTorch automatically calculates the gradient (grad_fn). Handy!"
   ]
  },
  {
   "cell_type": "code",
   "execution_count": 35,
   "metadata": {},
   "outputs": [],
   "source": [
    "torch.sigmoid(lin(x))  # sigmoid(Wx + b)"
   ]
  },
  {
   "cell_type": "code",
   "execution_count": 36,
   "metadata": {},
   "outputs": [],
   "source": [
    "class LogisticRegressionClassifier(torch.nn.Module):\n",
    "    def __init__(self, voc_size):\n",
    "        super().__init__()\n",
    "        self.linear = torch.nn.Linear(voc_size, 1)  # Wx + b\n",
    "    \n",
    "    def forward(self, x):  # special function called when model(x)\n",
    "        h = self.linear(x)       # h = Wx + b\n",
    "        return torch.sigmoid(h)  # y = sigmoid(h)"
   ]
  },
  {
   "cell_type": "code",
   "execution_count": 37,
   "metadata": {},
   "outputs": [],
   "source": [
    "model = LogisticRegressionClassifier(VOC_SIZE)"
   ]
  },
  {
   "cell_type": "code",
   "execution_count": 38,
   "metadata": {},
   "outputs": [],
   "source": [
    "# what are the model parameters? just the ones in linear\n",
    "for p in model.parameters():\n",
    "    print(p)"
   ]
  },
  {
   "cell_type": "code",
   "execution_count": 41,
   "metadata": {},
   "outputs": [],
   "source": [
    "# get prediction for a single data point\n",
    "# no_grad means we don't need to calculate gradients\n",
    "# (do this when testing the model)\n",
    "with torch.no_grad():\n",
    "    x = train_data[0][0]\n",
    "    print(model(x))"
   ]
  },
  {
   "cell_type": "code",
   "execution_count": 42,
   "metadata": {},
   "outputs": [],
   "source": [
    "# setup the training\n",
    "loss_func = torch.nn.BCELoss()\n",
    "optimizer = torch.optim.SGD(model.parameters())"
   ]
  },
  {
   "cell_type": "code",
   "execution_count": 43,
   "metadata": {},
   "outputs": [],
   "source": [
    "# train!\n",
    "for epoch in range(10):\n",
    "    print(\"Epoch\", epoch)\n",
    "\n",
    "    for x, y in train_data:\n",
    "        model.zero_grad()  # do this before running\n",
    "\n",
    "        pred = model(x)\n",
    "        loss = loss_func(pred, y)\n",
    "        loss.backward()  # calculate gradients\n",
    "        optimizer.step()  # updates thetas\n",
    "\n",
    "    # after each epoch, check how we're doing\n",
    "    # compute avg loss over train and dev sets\n",
    "    with torch.no_grad():\n",
    "        total_loss = 0\n",
    "        for x, y in train_data:\n",
    "            pred = model(x)\n",
    "            loss = loss_func(pred, y)\n",
    "            total_loss += loss\n",
    "        print(\"train loss:\", total_loss / len(train_data))\n",
    "\n",
    "        total_loss = 0\n",
    "        for x, y in dev_data:\n",
    "            pred = model(x)\n",
    "            loss = loss_func(pred, y)\n",
    "            total_loss += loss\n",
    "        print(\"dev loss:\", total_loss / len(dev_data))"
   ]
  },
  {
   "cell_type": "code",
   "execution_count": 44,
   "metadata": {},
   "outputs": [],
   "source": [
    "# look at some model predictions\n",
    "import random\n",
    "\n",
    "# run on dev data\n",
    "preds = []\n",
    "pred_labels = []\n",
    "with torch.no_grad():\n",
    "    for x, y in dev_data:\n",
    "        pred = model(x)\n",
    "        preds.append(pred.item())\n",
    "        if pred.item() < 0.5:\n",
    "            pred_labels.append(\"SH\")\n",
    "        else:\n",
    "            pred_labels.append(\"TTC\")\n",
    "\n",
    "# print a sample of predictions\n",
    "for _ in range(10):\n",
    "    idx = random.randint(0, len(dev_data_raw))\n",
    "    print(dev_data_raw[idx][1])\n",
    "    print(\"Gold:\", dev_data_raw[idx][0])\n",
    "    print(\"Pred:\", pred_labels[idx], preds[idx])\n",
    "    print()"
   ]
  },
  {
   "cell_type": "code",
   "execution_count": 1,
   "metadata": {},
   "outputs": [],
   "source": [
    "import evaluate  # conda install evaluate scikit-learn\n",
    "precision = evaluate.load(\"precision\")\n",
    "recall = evaluate.load(\"recall\")\n",
    "accuracy = evaluate.load(\"accuracy\")"
   ]
  },
  {
   "cell_type": "code",
   "execution_count": 25,
   "metadata": {},
   "outputs": [],
   "source": [
    "# evaluate functions require numeric data\n",
    "# so convert labels to 0 and 1\n",
    "refs = []\n",
    "for label, text in dev_data_raw:\n",
    "    if label == \"SH\":\n",
    "        refs.append(0)\n",
    "    else:\n",
    "        refs.append(1)\n",
    "\n",
    "preds_binary = []\n",
    "for label in pred_labels:\n",
    "    if label == \"SH\":\n",
    "        preds_binary.append(0)\n",
    "    else:\n",
    "        preds_binary.append(1)"
   ]
  },
  {
   "cell_type": "code",
   "execution_count": null,
   "metadata": {},
   "outputs": [],
   "source": [
    "print(precision.compute(references=refs, predictions=preds_binary))\n",
    "print(recall.compute(references=refs, predictions=preds_binary))\n",
    "print(accuracy.compute(references=refs, predictions=preds_binary))"
   ]
  },
  {
   "cell_type": "markdown",
   "metadata": {},
   "source": [
    "## Your Tasks\n",
    "\n",
    "Improve the performance of your logistic regression classifier! Try some of the following:\n",
    "- train for more epochs\n",
    "- use a different optimizer (ADAM is a good one)\n",
    "- try a different learning rate, by passing it in as an argument, e.g. (`optim = SGD(lr=0.1)`)\n",
    "- make better features (tokenization, bigrams, etc)\n",
    "\n",
    "Note: if you want to train from scratch, you need to reinitialize your model and optimizer (`model = ...`, `optim = ...`). If you rerun the training loop without reinitializing the model and optimizer, it will print epoch 0 1 2 etc but actually will have continued where it left off."
   ]
  }
 ],
 "metadata": {
  "kernelspec": {
   "display_name": "Python 3",
   "language": "python",
   "name": "python3"
  },
  "language_info": {
   "codemirror_mode": {
    "name": "ipython",
    "version": 3
   },
   "file_extension": ".py",
   "mimetype": "text/x-python",
   "name": "python",
   "nbconvert_exporter": "python",
   "pygments_lexer": "ipython3",
   "version": "3.12.4"
  },
  "polyglot_notebook": {
   "kernelInfo": {
    "defaultKernelName": "csharp",
    "items": [
     {
      "aliases": [],
      "name": "csharp"
     }
    ]
   }
  }
 },
 "nbformat": 4,
 "nbformat_minor": 4
}
